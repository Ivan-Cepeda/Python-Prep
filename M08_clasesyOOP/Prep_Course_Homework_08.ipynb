{
 "cells": [
  {
   "attachments": {},
   "cell_type": "markdown",
   "metadata": {},
   "source": [
    "## Clases y Programación Orientada a Objetos"
   ]
  },
  {
   "attachments": {},
   "cell_type": "markdown",
   "metadata": {},
   "source": [
    "1) Crear la clase vehículo que contenga los atributos:<br>\n",
    "Color<br>\n",
    "Si es moto, auto, camioneta ó camión<br>\n",
    "Cilindrada del motor"
   ]
  },
  {
   "cell_type": "code",
   "execution_count": 1,
   "metadata": {},
   "outputs": [],
   "source": [
    "class Vehiculo:\n",
    "    def __init__(self, color, tipo, cilindrada):\n",
    "        self.color = color\n",
    "        self.tipo = tipo\n",
    "        self.cilindrada = cilindrada\n",
    "    "
   ]
  },
  {
   "attachments": {},
   "cell_type": "markdown",
   "metadata": {},
   "source": [
    "2) A la clase Vehiculo creada en el punto 1, agregar los siguientes métodos:<br>\n",
    "Acelerar<br>\n",
    "Frenar<br>\n",
    "Doblar<br>"
   ]
  },
  {
   "cell_type": "code",
   "execution_count": 2,
   "metadata": {},
   "outputs": [],
   "source": [
    "class Vehiculo:\n",
    "    def __init__(self, color, tipo, cilindrada):\n",
    "        self.color = color\n",
    "        self.tipo = tipo\n",
    "        self.cilindrada = cilindrada\n",
    "        self.velocidad = 0\n",
    "        self.direccion = 90\n",
    "\n",
    "    def acelerar(self, vel):\n",
    "        self.velocidad += vel\n",
    "\n",
    "    def frenar(self, vel):\n",
    "        self.velocidad -= vel\n",
    "\n",
    "    def doblar_derecha(self, grados):\n",
    "        self.direccion += grados\n",
    "    \n",
    "    def doblar_izquierda(self, grados):\n",
    "        self.direccion -= grados"
   ]
  },
  {
   "attachments": {},
   "cell_type": "markdown",
   "metadata": {},
   "source": [
    "3) Instanciar 3 objetos de la clase vehículo y ejecutar sus métodos, probar luego el resultado"
   ]
  },
  {
   "cell_type": "code",
   "execution_count": 3,
   "metadata": {},
   "outputs": [],
   "source": [
    "auto1 = Vehiculo('azul', 'auto', '2.0')\n",
    "auto2 = Vehiculo('Verde', 'moto', '1.1')\n",
    "auto3 = Vehiculo('Gris', 'Camion', '5.2')"
   ]
  },
  {
   "cell_type": "code",
   "execution_count": 4,
   "metadata": {},
   "outputs": [],
   "source": [
    "auto1.acelerar(40)\n",
    "auto2.acelerar(60)\n",
    "auto3.acelerar(80)\n",
    "\n",
    "auto1.doblar_derecha(10)\n",
    "auto2.doblar_derecha(30)\n",
    "auto3.doblar_izquierda(40)"
   ]
  },
  {
   "cell_type": "code",
   "execution_count": null,
   "metadata": {},
   "outputs": [],
   "source": []
  },
  {
   "attachments": {},
   "cell_type": "markdown",
   "metadata": {},
   "source": [
    "4) Agregar a la clase Vehiculo, un método que muestre su estado, es decir, a que velocidad se encuentra y su dirección. Y otro método que muestre color, tipo y cilindrada"
   ]
  },
  {
   "cell_type": "code",
   "execution_count": 5,
   "metadata": {},
   "outputs": [],
   "source": [
    "class Vehiculo:\n",
    "    def __init__(self, color, tipo, cilindrada):\n",
    "        self.color = color\n",
    "        self.tipo = tipo\n",
    "        self.cilindrada = cilindrada\n",
    "        self.velocidad = 0\n",
    "        self.direccion = 90\n",
    "        self.orientacion = 'Centro'\n",
    "\n",
    "    def acelerar(self, vel):\n",
    "        self.velocidad += vel\n",
    "\n",
    "    def frenar(self, vel):\n",
    "        self.velocidad -= vel\n",
    "\n",
    "    def doblar_derecha(self, grados):\n",
    "        self.direccion += grados\n",
    "    \n",
    "    def doblar_izquierda(self, grados):\n",
    "        self.direccion -= grados\n",
    "\n",
    "    def mostrar_estado(self):\n",
    "        if self.direccion > 90:\n",
    "            self.orientacion = 'Derecha'\n",
    "        elif self.direccion == 90:\n",
    "            self.orientacion = 'Centro'\n",
    "        else:\n",
    "            self.orientacion = 'Izquierda'\n",
    "        print(f'Velocidad es {self.velocidad}, dirección {self.orientacion}')\n",
    "    \n",
    "    def mostrar_caracteristicas(self):\n",
    "        print(f'El Color: {self.color}, Tipo: {self.tipo}, Cilindrada: {self.cilindrada}')"
   ]
  },
  {
   "cell_type": "code",
   "execution_count": 6,
   "metadata": {},
   "outputs": [],
   "source": [
    "auto1 = Vehiculo('azul', 'auto', '2.0')\n",
    "auto2 = Vehiculo('Verde', 'moto', '1.1')\n",
    "auto3 = Vehiculo('Gris', 'Camion', '5.2')"
   ]
  },
  {
   "cell_type": "code",
   "execution_count": 7,
   "metadata": {},
   "outputs": [],
   "source": [
    "auto1.acelerar(40)\n",
    "auto2.acelerar(60)\n",
    "auto3.acelerar(80)\n",
    "\n",
    "auto1.doblar_derecha(10)\n",
    "auto2.doblar_derecha(30)\n",
    "auto3.doblar_izquierda(40)"
   ]
  },
  {
   "cell_type": "code",
   "execution_count": 8,
   "metadata": {},
   "outputs": [
    {
     "name": "stdout",
     "output_type": "stream",
     "text": [
      "Velocidad es 40, dirección Derecha\n",
      "El Color: azul, Tipo: auto, Cilindrada: 2.0\n"
     ]
    }
   ],
   "source": [
    "auto1.mostrar_estado()\n",
    "auto1.mostrar_caracteristicas()"
   ]
  },
  {
   "cell_type": "code",
   "execution_count": 9,
   "metadata": {},
   "outputs": [
    {
     "name": "stdout",
     "output_type": "stream",
     "text": [
      "Velocidad es 60, dirección Derecha\n",
      "El Color: Verde, Tipo: moto, Cilindrada: 1.1\n"
     ]
    }
   ],
   "source": [
    "auto2.mostrar_estado()\n",
    "auto2.mostrar_caracteristicas()"
   ]
  },
  {
   "cell_type": "code",
   "execution_count": 10,
   "metadata": {},
   "outputs": [
    {
     "name": "stdout",
     "output_type": "stream",
     "text": [
      "Velocidad es 80, dirección Izquierda\n",
      "El Color: Gris, Tipo: Camion, Cilindrada: 5.2\n"
     ]
    }
   ],
   "source": [
    "auto3.mostrar_estado()\n",
    "auto3.mostrar_caracteristicas()"
   ]
  },
  {
   "attachments": {},
   "cell_type": "markdown",
   "metadata": {},
   "source": [
    "5) Crear una clase que permita utilizar las funciones creadas en la práctica del módulo 7<br>\n",
    "Verificar Primo<br>\n",
    "Valor modal<br>\n",
    "Conversión grados<br>\n",
    "Factorial<br>"
   ]
  },
  {
   "cell_type": "code",
   "execution_count": 11,
   "metadata": {},
   "outputs": [],
   "source": [
    "class Herramientas:\n",
    "    def __init__(self) -> None:\n",
    "        pass\n",
    "    def verifica_primo(self, numero:int):\n",
    "        es_primo = True\n",
    "        for i in range(2, numero):\n",
    "            if numero % i == 0:\n",
    "                es_primo = False\n",
    "                break\n",
    "        return (es_primo)\n",
    "\n",
    "    def valor_modal(self, lista):\n",
    "        lista_unicos = []\n",
    "        lista_repeticiones = []\n",
    "        if len(lista) == 0:\n",
    "            return None\n",
    "        for elemento in lista:\n",
    "            if elemento in lista_unicos:\n",
    "                i = lista_unicos.index(elemento)\n",
    "                lista_repeticiones[i] += 1\n",
    "            else:\n",
    "                lista_unicos.append(elemento)\n",
    "                lista_repeticiones.append(1)\n",
    "        moda = lista_unicos[0]\n",
    "        maximo = lista_repeticiones[0]\n",
    "        for i, elemento in enumerate(lista_unicos):\n",
    "            if lista_repeticiones[i] > maximo:\n",
    "                moda = lista_unicos[i]\n",
    "                maximo = lista_repeticiones[i]\n",
    "        return moda, maximo\n",
    "    \n",
    "    def conversion_grados(self, valor:int, origen:str, destino:str):\n",
    "    # Función que realiza la conversión de grados entre diferentes unidades\n",
    "    # Parámetros:\n",
    "    # - valor: el valor numérico a convertir\n",
    "    # - origen: la unidad de origen (celsius, farenheit, kelvin)\n",
    "    # - destino: la unidad de destino (celsius, farenheit, kelvin)\n",
    "\n",
    "        if origen == 'celsius':\n",
    "            if destino == 'celsius':\n",
    "                valor_destino = valor  # Si la unidad de origen y destino es la misma, no se realiza ninguna conversión\n",
    "            elif destino == 'farenheit':\n",
    "                valor_destino = (valor * 9 / 5) + 32  # Conversión de Celsius a Farenheit\n",
    "            elif destino == 'kelvin':\n",
    "                valor_destino = valor + 273.15  # Conversión de Celsius a Kelvin\n",
    "            else:\n",
    "                print('Parámetro de Destino incorrecto')  # Mensaje de error si el parámetro de destino no es válido\n",
    "        elif origen == 'farenheit':\n",
    "            if destino == 'celsius':\n",
    "                valor_destino = (valor - 32) * 5 / 9  # Conversión de Farenheit a Celsius\n",
    "            elif destino == 'farenheit':\n",
    "                valor_destino = valor  # Si la unidad de origen y destino es la misma, no se realiza ninguna conversión\n",
    "            elif destino == 'kelvin':\n",
    "                valor_destino = ((valor - 32) * 5 / 9) + 273.15  # Conversión de Farenheit a Kelvin\n",
    "            else:\n",
    "                print('Parámetro de Destino incorrecto')  # Mensaje de error si el parámetro de destino no es válido\n",
    "        elif origen == 'kelvin':\n",
    "            if destino == 'celsius':\n",
    "                valor_destino = valor - 273.15  # Conversión de Kelvin a Celsius\n",
    "            elif destino == 'farenheit':\n",
    "                valor_destino = ((valor - 273.15) * 9 / 5) + 32  # Conversión de Kelvin a Farenheit\n",
    "            elif destino == 'kelvin':\n",
    "                valor_destino = valor  # Si la unidad de origen y destino es la misma, no se realiza ninguna conversión\n",
    "            else:\n",
    "                print('Parámetro de Destino incorrecto')  # Mensaje de error si el parámetro de destino no es válido\n",
    "        else:\n",
    "            print('Parámetro de Origen incorrecto')  # Mensaje de error si el parámetro de origen no es válido\n",
    "        \n",
    "        return valor_destino  # Retorna el valor convertido en la unidad de destino\n",
    "\n",
    "    def factorial(self, num:int):\n",
    "        if num < 0:\n",
    "            return 'Ingrese un número positivo'\n",
    "        \n",
    "        if num <= 1:\n",
    "            return 1\n",
    "        \n",
    "        num = num * self.factorial(num - 1)\n",
    "\n",
    "        return num\n"
   ]
  },
  {
   "attachments": {},
   "cell_type": "markdown",
   "metadata": {},
   "source": [
    "6) Probar las funciones incorporadas en la clase del punto 5"
   ]
  },
  {
   "cell_type": "code",
   "execution_count": 12,
   "metadata": {},
   "outputs": [],
   "source": [
    "ivan = Herramientas()"
   ]
  },
  {
   "cell_type": "code",
   "execution_count": 13,
   "metadata": {},
   "outputs": [
    {
     "data": {
      "text/plain": [
       "False"
      ]
     },
     "execution_count": 13,
     "metadata": {},
     "output_type": "execute_result"
    }
   ],
   "source": [
    "ivan.verifica_primo(8)"
   ]
  },
  {
   "cell_type": "code",
   "execution_count": 14,
   "metadata": {},
   "outputs": [
    {
     "name": "stdout",
     "output_type": "stream",
     "text": [
      "False\n",
      "(7, 4)\n"
     ]
    }
   ],
   "source": [
    "print(ivan.verifica_primo(8))\n",
    "lista = [2,3,5,6,6,6,7,7,7,7,8,8]\n",
    "print(ivan.valor_modal(lista))"
   ]
  },
  {
   "cell_type": "code",
   "execution_count": 15,
   "metadata": {},
   "outputs": [
    {
     "data": {
      "text/plain": [
       "78.8"
      ]
     },
     "execution_count": 15,
     "metadata": {},
     "output_type": "execute_result"
    }
   ],
   "source": [
    "ivan.conversion_grados(26,'celsius','farenheit')"
   ]
  },
  {
   "cell_type": "code",
   "execution_count": 16,
   "metadata": {},
   "outputs": [
    {
     "data": {
      "text/plain": [
       "5040"
      ]
     },
     "execution_count": 16,
     "metadata": {},
     "output_type": "execute_result"
    }
   ],
   "source": [
    "ivan.factorial(7)"
   ]
  },
  {
   "cell_type": "code",
   "execution_count": 17,
   "metadata": {},
   "outputs": [
    {
     "data": {
      "text/plain": [
       "__main__.Herramientas"
      ]
     },
     "execution_count": 17,
     "metadata": {},
     "output_type": "execute_result"
    }
   ],
   "source": [
    "type(ivan)"
   ]
  },
  {
   "attachments": {},
   "cell_type": "markdown",
   "metadata": {},
   "source": [
    "7) Es necesario que la clase creada en el punto 5 contenga una lista, sobre la cual se apliquen las funciones incorporadas"
   ]
  },
  {
   "cell_type": "code",
   "execution_count": 18,
   "metadata": {},
   "outputs": [],
   "source": [
    "class Herramientas:\n",
    "    def __init__(self, lista_num):\n",
    "        self.lista_num = lista_num\n",
    "        \n",
    "    def verifica_primo(self):\n",
    "        for elemento in self.lista_num:\n",
    "            if (self.__verifica_primo(elemento)):\n",
    "                print(f'{elemento} es un numero primo')\n",
    "            else:\n",
    "                print(f'{elemento} no es un numero primo') \n",
    "\n",
    "    def conversion_grados(self, origen, destino):\n",
    "        \n",
    "        for elemento in self.lista_num:\n",
    "            print(f'{elemento}, de origen a destino, es {self.__conversion_grados(elemento, origen, destino)}')\n",
    "\n",
    "    def factorial(self):\n",
    "        for elemento in self.lista_num:\n",
    "            print(f'el factorial de {elemento}, es {self.__factorial(elemento)}')\n",
    "        \n",
    "    def __verifica_primo(self, numero:int):\n",
    "        es_primo = True\n",
    "        for i in range(2, numero):\n",
    "            if numero % i == 0:\n",
    "                es_primo = False\n",
    "                break\n",
    "        return (es_primo)\n",
    "\n",
    "    def valor_modal(self, lista):\n",
    "        lista_unicos = []\n",
    "        lista_repeticiones = []\n",
    "        if len(lista) == 0:\n",
    "            return None\n",
    "        for elemento in lista:\n",
    "            if elemento in lista_unicos:\n",
    "                i = lista_unicos.index(elemento)\n",
    "                lista_repeticiones[i] += 1\n",
    "            else:\n",
    "                lista_unicos.append(elemento)\n",
    "                lista_repeticiones.append(1)\n",
    "        moda = lista_unicos[0]\n",
    "        maximo = lista_repeticiones[0]\n",
    "        for i, elemento in enumerate(lista_unicos):\n",
    "            if lista_repeticiones[i] > maximo:\n",
    "                moda = lista_unicos[i]\n",
    "                maximo = lista_repeticiones[i]\n",
    "        return moda, maximo\n",
    "    \n",
    "    def __conversion_grados(self, valor:int, origen:str, destino:str):\n",
    "    # Función que realiza la conversión de grados entre diferentes unidades\n",
    "    # Parámetros:\n",
    "    # - valor: el valor numérico a convertir\n",
    "    # - origen: la unidad de origen (celsius, farenheit, kelvin)\n",
    "    # - destino: la unidad de destino (celsius, farenheit, kelvin)\n",
    "\n",
    "        if origen == 'celsius':\n",
    "            if destino == 'celsius':\n",
    "                valor_destino = valor  # Si la unidad de origen y destino es la misma, no se realiza ninguna conversión\n",
    "            elif destino == 'farenheit':\n",
    "                valor_destino = (valor * 9 / 5) + 32  # Conversión de Celsius a Farenheit\n",
    "            elif destino == 'kelvin':\n",
    "                valor_destino = valor + 273.15  # Conversión de Celsius a Kelvin\n",
    "            else:\n",
    "                print('Parámetro de Destino incorrecto')  # Mensaje de error si el parámetro de destino no es válido\n",
    "        elif origen == 'farenheit':\n",
    "            if destino == 'celsius':\n",
    "                valor_destino = (valor - 32) * 5 / 9  # Conversión de Farenheit a Celsius\n",
    "            elif destino == 'farenheit':\n",
    "                valor_destino = valor  # Si la unidad de origen y destino es la misma, no se realiza ninguna conversión\n",
    "            elif destino == 'kelvin':\n",
    "                valor_destino = ((valor - 32) * 5 / 9) + 273.15  # Conversión de Farenheit a Kelvin\n",
    "            else:\n",
    "                print('Parámetro de Destino incorrecto')  # Mensaje de error si el parámetro de destino no es válido\n",
    "        elif origen == 'kelvin':\n",
    "            if destino == 'celsius':\n",
    "                valor_destino = valor - 273.15  # Conversión de Kelvin a Celsius\n",
    "            elif destino == 'farenheit':\n",
    "                valor_destino = ((valor - 273.15) * 9 / 5) + 32  # Conversión de Kelvin a Farenheit\n",
    "            elif destino == 'kelvin':\n",
    "                valor_destino = valor  # Si la unidad de origen y destino es la misma, no se realiza ninguna conversión\n",
    "            else:\n",
    "                print('Parámetro de Destino incorrecto')  # Mensaje de error si el parámetro de destino no es válido\n",
    "        else:\n",
    "            print('Parámetro de Origen incorrecto')  # Mensaje de error si el parámetro de origen no es válido\n",
    "        \n",
    "        return valor_destino  # Retorna el valor convertido en la unidad de destino\n",
    "\n",
    "    def __factorial(self, num:int):\n",
    "        if num < 0:\n",
    "            return 'Ingrese un número positivo'\n",
    "        \n",
    "        if num <= 1:\n",
    "            return 1\n",
    "        \n",
    "        num = num * self.__factorial(num - 1)\n",
    "\n",
    "        return num\n"
   ]
  },
  {
   "cell_type": "code",
   "execution_count": 19,
   "metadata": {},
   "outputs": [],
   "source": [
    "lista = [2,3,4,5,6,7,7,8,8,8,8,8]\n",
    "\n",
    "ivan = Herramientas(lista)\n",
    "\n"
   ]
  },
  {
   "cell_type": "code",
   "execution_count": 20,
   "metadata": {},
   "outputs": [
    {
     "name": "stdout",
     "output_type": "stream",
     "text": [
      "2, de origen a destino, es 275.15\n",
      "3, de origen a destino, es 276.15\n",
      "4, de origen a destino, es 277.15\n",
      "5, de origen a destino, es 278.15\n",
      "6, de origen a destino, es 279.15\n",
      "7, de origen a destino, es 280.15\n",
      "7, de origen a destino, es 280.15\n",
      "8, de origen a destino, es 281.15\n",
      "8, de origen a destino, es 281.15\n",
      "8, de origen a destino, es 281.15\n",
      "8, de origen a destino, es 281.15\n",
      "8, de origen a destino, es 281.15\n"
     ]
    }
   ],
   "source": [
    "ivan.conversion_grados('celsius','kelvin')"
   ]
  },
  {
   "cell_type": "code",
   "execution_count": 21,
   "metadata": {},
   "outputs": [
    {
     "name": "stdout",
     "output_type": "stream",
     "text": [
      "el factorial de 2, es 2\n",
      "el factorial de 3, es 6\n",
      "el factorial de 4, es 24\n",
      "el factorial de 5, es 120\n",
      "el factorial de 6, es 720\n",
      "el factorial de 7, es 5040\n",
      "el factorial de 7, es 5040\n",
      "el factorial de 8, es 40320\n",
      "el factorial de 8, es 40320\n",
      "el factorial de 8, es 40320\n",
      "el factorial de 8, es 40320\n",
      "el factorial de 8, es 40320\n"
     ]
    }
   ],
   "source": [
    "ivan.factorial()"
   ]
  },
  {
   "cell_type": "code",
   "execution_count": 22,
   "metadata": {},
   "outputs": [
    {
     "name": "stdout",
     "output_type": "stream",
     "text": [
      "2 es un numero primo\n",
      "3 es un numero primo\n",
      "4 no es un numero primo\n",
      "5 es un numero primo\n",
      "6 no es un numero primo\n",
      "7 es un numero primo\n",
      "7 es un numero primo\n",
      "8 no es un numero primo\n",
      "8 no es un numero primo\n",
      "8 no es un numero primo\n",
      "8 no es un numero primo\n",
      "8 no es un numero primo\n"
     ]
    }
   ],
   "source": [
    "ivan.verifica_primo()"
   ]
  },
  {
   "attachments": {},
   "cell_type": "markdown",
   "metadata": {},
   "source": [
    "8) Crear un archivo .py aparte y ubicar allí la clase generada en el punto anterior. Luego realizar la importación del módulo y probar alguna de sus funciones"
   ]
  },
  {
   "cell_type": "code",
   "execution_count": 25,
   "metadata": {},
   "outputs": [],
   "source": [
    "import herramientas as her\n",
    "\n",
    "bb = her.Ferramientas(lista)"
   ]
  },
  {
   "cell_type": "code",
   "execution_count": 26,
   "metadata": {},
   "outputs": [
    {
     "name": "stdout",
     "output_type": "stream",
     "text": [
      "El factorial de  2 es 2\n",
      "El factorial de  3 es 6\n",
      "El factorial de  4 es 24\n",
      "El factorial de  5 es 120\n",
      "El factorial de  6 es 720\n",
      "El factorial de  7 es 5040\n",
      "El factorial de  7 es 5040\n",
      "El factorial de  8 es 40320\n",
      "El factorial de  8 es 40320\n",
      "El factorial de  8 es 40320\n",
      "El factorial de  8 es 40320\n",
      "El factorial de  8 es 40320\n"
     ]
    }
   ],
   "source": [
    "bb.factorial()"
   ]
  }
 ],
 "metadata": {
  "interpreter": {
   "hash": "c85384e4cb51c8b72350f3a8712cc8351fdc3955e32a27f9b60c6242ab125f01"
  },
  "kernelspec": {
   "display_name": "Python 3 (ipykernel)",
   "language": "python",
   "name": "python3"
  },
  "language_info": {
   "codemirror_mode": {
    "name": "ipython",
    "version": 3
   },
   "file_extension": ".py",
   "mimetype": "text/x-python",
   "name": "python",
   "nbconvert_exporter": "python",
   "pygments_lexer": "ipython3",
   "version": "3.12.1"
  }
 },
 "nbformat": 4,
 "nbformat_minor": 4
}
